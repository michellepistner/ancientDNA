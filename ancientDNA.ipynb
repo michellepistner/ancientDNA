{
 "cells": [
  {
   "cell_type": "markdown",
   "metadata": {},
   "source": [
    "# Analysis of Covariation for Ancient DNA Data\n",
    "\n",
    "Welcome! This repo has the code for the analysis of covariation between temporal and spatial effects in ancient DNA. With ancient DNA, much of the metadata is confounded which each other as certain samples are typically only collected from a specific location at a specific time period. In addition, these covariates can be further confounded with other information, as burial location/time might be related to other factors such as class, diet, etc.\n",
    "\n",
    "We wanted to assess what percentage of signal that is explainable by temporal factors is also *potentially* explainable by geographic location. To do this, we used a multinomial-logistic normal model to model the effect of time on our data set. Letting $Y_{ij}$ denote the observed abundance for taxa $i = 1,...,D$ in sample $j = 1,...N$ and $X$ denote a $Q \\times N$ matrix of covariate information, the general form for these models can be written as:\n",
    "\n",
    "\n",
    "\\begin{equation}\n",
    "  \\begin{split}\n",
    "  Y_j &\\sim Multinomial (\\pi_j)\\\\\n",
    "  \\pi_j &= \\phi^{-1}(\\eta_j)\\\\\n",
    "  \\eta_j &\\sim N(\\Lambda X_j, \\Sigma)\n",
    "  \\end{split}\n",
    "\\end{equation}\n",
    "\n",
    "with priors\n",
    "\n",
    "\\begin{equation}\n",
    "  \\begin{split}\n",
    "  \\Lambda &\\sim MN_{(D-1) \\times P} (\\Theta, \\Sigma, \\Gamma)\\\\\n",
    "  \\Sigma &\\sim IW(\\Xi, v),\n",
    "  \\end{split}\n",
    "\\end{equation}\n",
    "\n",
    "where $\\eta_j = ALR(\\pi_j)$ (*e.g.*, $\\eta_j$ denotes the additive log-ratio coordinates of the proportions which exist on the simplex) and $MN_{(D-1) \\times P}$ represents the Matrix-Normal distribution of correct dimension. These methods are efficiently implemented in the *fido* R package (Silverman, 2019) of which we used  version 0.1.13 for our analyses.\n",
    "\n",
    "After fitting the model of time, we captured what was explained by this model by examining the linear predictor ($\\Lambda X_j$) and transformed it to the scale of the original data. Then, we re-fit the model using new predictors (*e.g.,* location) with our fitted values as our new OTU table. To calculate the percentage of variation explained, we used a Bayesian analogue of $R^2$ that compares the variation in the fit with the variation of the errors. As a sanity check, we examined how much of variation in time was explained by time (which should be close to 100%) and how much variation in time was explained by the intercept (which should be close to 0%). Both checks behaved as expected.\n",
    "\n",
    "To run the code for the first time, complete the following steps:\n",
    "\n",
    "1. Install the needed packages. While most of the packages are available on CRAN, `phyloseq` is available on Bioconductor (see installation instructions [here](https://www.bioconductor.org/install/)). Furthermore, `fido` and `driver` can be installed from Github:\n",
    "\n",
    "`devtools::install_github(jsliv24/driver)`\n",
    "\n",
    "`devtools::install_github(jsliv24/fido)`\n",
    "\n",
    "\n",
    "2. Download and run the code in order (based off the numberings in the file names). These files expect that the data are available in a \"data\" folder located in the current working directory.\n",
    "\n",
    "3. View the results. They are labeled in the output as you progress through the code.\n",
    "\n",
    "**References**\n",
    "\n",
    "Gelman, A., Goodrich, B., Gabry, J., & Vehtari, A. (2019). R-squared for Bayesian regression models. *The American Statistician*.\n",
    "\n",
    "Silverman, J. D., Roche, K., Holmes, Z. C., David, L. A., & Mukherjee, S. (2019). Bayesian multinomial logistic normal models through marginally latent matrix-T processes. *arXiv preprint arXiv:1903.11695*."
   ]
  },
  {
   "cell_type": "code",
   "execution_count": null,
   "metadata": {},
   "outputs": [],
   "source": []
  }
 ],
 "metadata": {
  "kernelspec": {
   "display_name": "Python 3",
   "language": "python",
   "name": "python3"
  },
  "language_info": {
   "codemirror_mode": {
    "name": "ipython",
    "version": 3
   },
   "file_extension": ".py",
   "mimetype": "text/x-python",
   "name": "python",
   "nbconvert_exporter": "python",
   "pygments_lexer": "ipython3",
   "version": "3.8.5"
  }
 },
 "nbformat": 4,
 "nbformat_minor": 4
}
